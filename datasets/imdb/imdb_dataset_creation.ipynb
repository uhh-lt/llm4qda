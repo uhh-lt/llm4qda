{
 "cells": [
  {
   "cell_type": "code",
   "execution_count": 1,
   "metadata": {},
   "outputs": [],
   "source": [
    "import pandas as pd\n",
    "\n",
    "splits = {'train': 'train.csv', 'validation': 'validation.csv', 'test': 'test.csv'}\n",
    "df = pd.read_csv(\"hf://datasets/jquigl/imdb-genres/\" + splits[\"test\"])"
   ]
  },
  {
   "cell_type": "code",
   "execution_count": 2,
   "metadata": {},
   "outputs": [
    {
     "data": {
      "text/html": [
       "<div>\n",
       "<style scoped>\n",
       "    .dataframe tbody tr th:only-of-type {\n",
       "        vertical-align: middle;\n",
       "    }\n",
       "\n",
       "    .dataframe tbody tr th {\n",
       "        vertical-align: top;\n",
       "    }\n",
       "\n",
       "    .dataframe thead th {\n",
       "        text-align: right;\n",
       "    }\n",
       "</style>\n",
       "<table border=\"1\" class=\"dataframe\">\n",
       "  <thead>\n",
       "    <tr style=\"text-align: right;\">\n",
       "      <th></th>\n",
       "      <th>movie title - year</th>\n",
       "      <th>genre</th>\n",
       "      <th>expanded-genres</th>\n",
       "      <th>rating</th>\n",
       "      <th>description</th>\n",
       "    </tr>\n",
       "  </thead>\n",
       "  <tbody>\n",
       "    <tr>\n",
       "      <th>0</th>\n",
       "      <td>Son of the Wolf - nan</td>\n",
       "      <td>Adventure</td>\n",
       "      <td>Adventure</td>\n",
       "      <td>NaN</td>\n",
       "      <td>Set in 1800'2 Yukon, The Malamute Kid takes on...</td>\n",
       "    </tr>\n",
       "    <tr>\n",
       "      <th>1</th>\n",
       "      <td>Firstborn - 2003</td>\n",
       "      <td>Action</td>\n",
       "      <td>Action, Adventure, Fantasy</td>\n",
       "      <td>6.1</td>\n",
       "      <td>Sorcerers fight against themselves for ultimat...</td>\n",
       "    </tr>\n",
       "    <tr>\n",
       "      <th>2</th>\n",
       "      <td>13 Cameras - 2015</td>\n",
       "      <td>Thriller</td>\n",
       "      <td>Crime, Drama, Horror</td>\n",
       "      <td>5.2</td>\n",
       "      <td>A newlywed couple, move into a new house acros...</td>\n",
       "    </tr>\n",
       "    <tr>\n",
       "      <th>3</th>\n",
       "      <td>Straight Up, Now Tell Me... - nan</td>\n",
       "      <td>Romance</td>\n",
       "      <td>Romance</td>\n",
       "      <td>NaN</td>\n",
       "      <td>When a gay man brings his fiancee home to meet...</td>\n",
       "    </tr>\n",
       "    <tr>\n",
       "      <th>4</th>\n",
       "      <td>The Ugly Duckling - 1959</td>\n",
       "      <td>Crime</td>\n",
       "      <td>Comedy, Crime, Sci-Fi</td>\n",
       "      <td>5.5</td>\n",
       "      <td>Henry Jeckle was always the outsider, a bungli...</td>\n",
       "    </tr>\n",
       "  </tbody>\n",
       "</table>\n",
       "</div>"
      ],
      "text/plain": [
       "                  movie title - year      genre             expanded-genres  \\\n",
       "0              Son of the Wolf - nan  Adventure                   Adventure   \n",
       "1                   Firstborn - 2003     Action  Action, Adventure, Fantasy   \n",
       "2                  13 Cameras - 2015   Thriller        Crime, Drama, Horror   \n",
       "3  Straight Up, Now Tell Me... - nan    Romance                     Romance   \n",
       "4           The Ugly Duckling - 1959      Crime       Comedy, Crime, Sci-Fi   \n",
       "\n",
       "   rating                                        description  \n",
       "0     NaN  Set in 1800'2 Yukon, The Malamute Kid takes on...  \n",
       "1     6.1  Sorcerers fight against themselves for ultimat...  \n",
       "2     5.2  A newlywed couple, move into a new house acros...  \n",
       "3     NaN  When a gay man brings his fiancee home to meet...  \n",
       "4     5.5  Henry Jeckle was always the outsider, a bungli...  "
      ]
     },
     "execution_count": 2,
     "metadata": {},
     "output_type": "execute_result"
    }
   ],
   "source": [
    "df.head()"
   ]
  },
  {
   "cell_type": "code",
   "execution_count": 7,
   "metadata": {},
   "outputs": [
    {
     "data": {
      "text/plain": [
       "array(['Adventure', 'Action', 'Thriller', 'Romance', 'Crime', 'Fantasy',\n",
       "       'Mystery', 'Horror', 'War', 'Family', 'Animation', 'Scifi',\n",
       "       'Sports', 'History', 'Biography', 'Film-noir'], dtype=object)"
      ]
     },
     "execution_count": 7,
     "metadata": {},
     "output_type": "execute_result"
    }
   ],
   "source": [
    "df[\"genre\"].unique()"
   ]
  },
  {
   "cell_type": "code",
   "execution_count": 12,
   "metadata": {},
   "outputs": [
    {
     "data": {
      "text/plain": [
       "genre\n",
       "Action       1336\n",
       "Adventure     673\n",
       "Animation     228\n",
       "Biography     230\n",
       "Crime         990\n",
       "Family        434\n",
       "Fantasy       463\n",
       "Film-noir      32\n",
       "History       240\n",
       "Horror        990\n",
       "Mystery       585\n",
       "Romance      1392\n",
       "Scifi         470\n",
       "Sports        135\n",
       "Thriller     1534\n",
       "War           268\n",
       "dtype: int64"
      ]
     },
     "execution_count": 12,
     "metadata": {},
     "output_type": "execute_result"
    }
   ],
   "source": [
    "df.sample(10000).groupby(\"genre\").size()"
   ]
  },
  {
   "cell_type": "code",
   "execution_count": 21,
   "metadata": {},
   "outputs": [],
   "source": [
    "def filter_adult(labels):\n",
    "    return \", \".join([label for label in labels.split(\", \") if label != \"Adult\"])\n",
    "\n",
    "\n",
    "df[\"expanded-genres\"] = df[\"expanded-genres\"].apply(filter_adult)"
   ]
  },
  {
   "cell_type": "code",
   "execution_count": 7,
   "metadata": {},
   "outputs": [
    {
     "data": {
      "text/plain": [
       "0                         Adventure\n",
       "1        Action, Adventure, Fantasy\n",
       "2              Crime, Drama, Horror\n",
       "3                           Romance\n",
       "4             Comedy, Crime, Sci-Fi\n",
       "                    ...            \n",
       "29751        Crime, Drama, Thriller\n",
       "29752             Adventure, Comedy\n",
       "29753                Action, Comedy\n",
       "29754               Comedy, Romance\n",
       "29755      Action, Adventure, Crime\n",
       "Name: expanded-genres, Length: 29756, dtype: object"
      ]
     },
     "execution_count": 7,
     "metadata": {},
     "output_type": "execute_result"
    }
   ],
   "source": [
    "df[\"expanded-genres\"]"
   ]
  },
  {
   "cell_type": "code",
   "execution_count": 22,
   "metadata": {},
   "outputs": [],
   "source": [
    "labels = df[\"expanded-genres\"].to_list()"
   ]
  },
  {
   "cell_type": "code",
   "execution_count": 23,
   "metadata": {},
   "outputs": [],
   "source": [
    "unique_labels = list(set(label for labels in labels for label in labels.split(\", \")))"
   ]
  },
  {
   "cell_type": "code",
   "execution_count": 25,
   "metadata": {},
   "outputs": [],
   "source": [
    "unique_labels.sort()"
   ]
  },
  {
   "cell_type": "code",
   "execution_count": 26,
   "metadata": {},
   "outputs": [
    {
     "data": {
      "text/plain": [
       "['Action',\n",
       " 'Adventure',\n",
       " 'Animation',\n",
       " 'Biography',\n",
       " 'Comedy',\n",
       " 'Crime',\n",
       " 'Drama',\n",
       " 'Family',\n",
       " 'Fantasy',\n",
       " 'Film-Noir',\n",
       " 'Game-Show',\n",
       " 'History',\n",
       " 'Horror',\n",
       " 'Music',\n",
       " 'Musical',\n",
       " 'Mystery',\n",
       " 'News',\n",
       " 'Reality-TV',\n",
       " 'Romance',\n",
       " 'Sci-Fi',\n",
       " 'Sport',\n",
       " 'Talk-Show',\n",
       " 'Thriller',\n",
       " 'War',\n",
       " 'Western']"
      ]
     },
     "execution_count": 26,
     "metadata": {},
     "output_type": "execute_result"
    }
   ],
   "source": [
    "unique_labels"
   ]
  },
  {
   "cell_type": "code",
   "execution_count": 27,
   "metadata": {},
   "outputs": [],
   "source": [
    "# store the cleaned data in a new parquet file\n",
    "df.to_parquet(\"imdb_cleaned.parquet\")"
   ]
  },
  {
   "cell_type": "code",
   "execution_count": null,
   "metadata": {},
   "outputs": [],
   "source": []
  }
 ],
 "metadata": {
  "kernelspec": {
   "display_name": "Python 3",
   "language": "python",
   "name": "python3"
  },
  "language_info": {
   "codemirror_mode": {
    "name": "ipython",
    "version": 3
   },
   "file_extension": ".py",
   "mimetype": "text/x-python",
   "name": "python",
   "nbconvert_exporter": "python",
   "pygments_lexer": "ipython3",
   "version": "3.11.6"
  }
 },
 "nbformat": 4,
 "nbformat_minor": 2
}
