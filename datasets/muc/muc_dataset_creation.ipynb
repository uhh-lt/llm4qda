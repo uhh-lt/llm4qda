{
 "cells": [
  {
   "cell_type": "code",
   "execution_count": 1,
   "metadata": {},
   "outputs": [],
   "source": [
    "from pathlib import Path\n",
    "import json\n",
    "import pandas as pd"
   ]
  },
  {
   "cell_type": "code",
   "execution_count": 2,
   "metadata": {},
   "outputs": [],
   "source": [
    "paths = [\n",
    "    Path(\"datasets/muc/test.jsonl\"),\n",
    "    Path(\"datasets/muc/train.jsonl\"),\n",
    "    Path(\"datasets/muc/dev.jsonl\"),\n",
    "]"
   ]
  },
  {
   "cell_type": "code",
   "execution_count": 3,
   "metadata": {},
   "outputs": [],
   "source": [
    "# read jsonl files\n",
    "data = []\n",
    "for file_path in paths:\n",
    "    with open(file_path, \"r\") as f:\n",
    "        for line in f:\n",
    "            data.append(json.loads(line))"
   ]
  },
  {
   "cell_type": "code",
   "execution_count": 4,
   "metadata": {},
   "outputs": [
    {
     "data": {
      "text/plain": [
       "1700"
      ]
     },
     "execution_count": 4,
     "metadata": {},
     "output_type": "execute_result"
    }
   ],
   "source": [
    "len(data)"
   ]
  },
  {
   "cell_type": "code",
   "execution_count": 5,
   "metadata": {},
   "outputs": [
    {
     "data": {
      "text/plain": [
       "620"
      ]
     },
     "execution_count": 5,
     "metadata": {},
     "output_type": "execute_result"
    }
   ],
   "source": [
    "# find all data where the templates array is len == 1\n",
    "data_1 = [d for d in data if len(d[\"templates\"]) == 1]\n",
    "len(data_1)"
   ]
  },
  {
   "cell_type": "code",
   "execution_count": 6,
   "metadata": {},
   "outputs": [
    {
     "data": {
      "text/plain": [
       "758"
      ]
     },
     "execution_count": 6,
     "metadata": {},
     "output_type": "execute_result"
    }
   ],
   "source": [
    "# find all data where the templates array is len == 0\n",
    "data_2 = [d for d in data if len(d[\"templates\"]) == 0]\n",
    "len(data_2)"
   ]
  },
  {
   "cell_type": "code",
   "execution_count": 7,
   "metadata": {},
   "outputs": [
    {
     "data": {
      "text/plain": [
       "322"
      ]
     },
     "execution_count": 7,
     "metadata": {},
     "output_type": "execute_result"
    }
   ],
   "source": [
    "# data where the templates array is len > 1\n",
    "len(data) - len(data_1) - len(data_2)"
   ]
  },
  {
   "cell_type": "code",
   "execution_count": 8,
   "metadata": {},
   "outputs": [
    {
     "data": {
      "text/plain": [
       "695"
      ]
     },
     "execution_count": 8,
     "metadata": {},
     "output_type": "execute_result"
    }
   ],
   "source": [
    "# we want a dataset that consists of documents with exactly one template\n",
    "# and we want to include 10% of the documents with no templates\n",
    "# so we need to sample 10% of data_2\n",
    "import random\n",
    "\n",
    "random.seed(42)\n",
    "data_2_sample = random.sample(data_2, int(len(data_2) * 0.1))\n",
    "\n",
    "# combine data_1 and data_2_sample\n",
    "data_combined = data_1 + data_2_sample\n",
    "len(data_combined)"
   ]
  },
  {
   "cell_type": "code",
   "execution_count": 9,
   "metadata": {},
   "outputs": [
    {
     "data": {
      "text/plain": [
       "{'docid': 'TST3-MUC4-0002',\n",
       " 'doctext': 'those accused of the assassination of six jesuits will have a \"fair trial\" and if found guilty, will be punished whether they are civilians, military, or influential people, supreme court president dr mauricio gutierrez castro said.    the technical investigation commission has determined that some military were reportedly involved in the assassination of the six jesuits and their two maids, which took place at daybreak on 16 november, as reported by president alfredo cristiani on 7 january.    \"the local and international community can rest assured the salvadoran judiciary system will not hesitate to enforce the law upon the authors of this horrible crime,\" dr gutierrez pointed out.    gutierrez said he does not know how many people are involved or their military ranks, because the commission to investigate criminal actions is still conducting investigations and has not presented its report to the tribunal.    however, general prosecutor dr mauricio eduardo colorado maintained that the military suspects \"are regrouped and have been put in custody.\" however, he did not reveal the names or the military ranks of the suspects.    the prosecutor said that the scientific test conducted by the commission to investigate criminal actions and the specialized police working on this case have determined that the crime could have been perpetrated by armed forces members.    \"the attorney general office will proceed according to the law and against whoever turns out to be guilty, because it is the constitutional duty of the attorney general\\'s office,\" colorado said.    asked about this issue, justice minister dr oscar alfredo santamaria, president of the commission to investigate criminal actions said: \"we understand that the most recent information on this case was announced by the president of the republic a few days ago.\"  he refused to make any further statements.    new uca (central american university) rector jesuit francisco estrada admitted president alfredo cristiani has taken \"a step forward\" by unmasking the suspects in this crime, \"because his ethic principles do not tolerate such atrocities.\"    estrada said he understands why cristiani, during his 7 january speech, did not give any names, \"because the investigations are still being conducted.\"  moreover, there must not only be one suspect, but rather several.\"    before meeting with the reporters, the uca rector met with officials from scotland yard.  a few days ago, he also met spanish, canadian, and u.s.  policemen who, at the government\\'s request, are assisting the salvadoran commission in charge of clarifying this case.',\n",
       " 'templates': [{'incident_type': 'attack',\n",
       "   'PerpInd': [[['military', 141],\n",
       "     ['some military', 295],\n",
       "     ['military suspects', 1002],\n",
       "     ['armed forces members', 1360]]],\n",
       "   'PerpOrg': [[['armed forces', 1360]]],\n",
       "   'Target': [],\n",
       "   'Victim': [],\n",
       "   'Weapon': []}]}"
      ]
     },
     "execution_count": 9,
     "metadata": {},
     "output_type": "execute_result"
    }
   ],
   "source": [
    "# create a dataframe\n",
    "data_combined[1]"
   ]
  },
  {
   "cell_type": "code",
   "execution_count": 10,
   "metadata": {},
   "outputs": [],
   "source": [
    "for data in data_combined:\n",
    "    if len(data[\"templates\"]) == 1:\n",
    "        # flatten the lists, only consider the text, not the int offset\n",
    "        template = data[\"templates\"][0]\n",
    "        for key, value in template.items():\n",
    "            if type(value) == str:\n",
    "                continue\n",
    "                    \n",
    "            texts = []\n",
    "            for group in value:\n",
    "                for item in group:\n",
    "                    texts.append(item[0])\n",
    "            template[key] = texts\n",
    "        data.update(data[\"templates\"][0])\n",
    "    else:\n",
    "        data.update({\n",
    "            \"incident_type\": \"none\",\n",
    "            \"PerpInd\": [],\n",
    "            \"PerpOrg\": [],\n",
    "            \"Target\": [],\n",
    "            \"Victim\": [],\n",
    "            \"Weapon\": [],\n",
    "        })\n",
    "    del data[\"templates\"]"
   ]
  },
  {
   "cell_type": "code",
   "execution_count": 11,
   "metadata": {},
   "outputs": [
    {
     "data": {
      "text/plain": [
       "{'docid': 'TST3-MUC4-0019',\n",
       " 'doctext': 'oil will not be pumped through the cano limon-covenas pipeline again until 30 may, because it was again blown up today near urum municipality, norte de santander department.',\n",
       " 'incident_type': 'bombing',\n",
       " 'PerpInd': [],\n",
       " 'PerpOrg': [],\n",
       " 'Target': ['cano limon-covenas pipeline', 'pipeline'],\n",
       " 'Victim': [],\n",
       " 'Weapon': []}"
      ]
     },
     "execution_count": 11,
     "metadata": {},
     "output_type": "execute_result"
    }
   ],
   "source": [
    "data_combined[5]"
   ]
  },
  {
   "cell_type": "code",
   "execution_count": 12,
   "metadata": {},
   "outputs": [],
   "source": [
    "df = pd.DataFrame(data_combined)"
   ]
  },
  {
   "cell_type": "code",
   "execution_count": 13,
   "metadata": {},
   "outputs": [
    {
     "data": {
      "text/plain": [
       "array(['attack', 'kidnapping', 'bombing', 'attack / bombing', 'robbery',\n",
       "       'arson', 'bombing / attack', 'none'], dtype=object)"
      ]
     },
     "execution_count": 13,
     "metadata": {},
     "output_type": "execute_result"
    }
   ],
   "source": [
    "unique_incident_types = df[\"incident_type\"].unique()\n",
    "unique_incident_types"
   ]
  },
  {
   "cell_type": "code",
   "execution_count": 14,
   "metadata": {},
   "outputs": [],
   "source": [
    "# find all data where the incident_type is \"attack / bombing\"\n",
    "df[df[\"incident_type\"] == \"attack / bombing\"] = df[df[\"incident_type\"] == \"attack / bombing\"].replace(\"attack / bombing\", \"attack\")"
   ]
  },
  {
   "cell_type": "code",
   "execution_count": 15,
   "metadata": {},
   "outputs": [],
   "source": [
    "# find all data where the incident_type is \"bombing / attack\"\n",
    "df[df[\"incident_type\"] == \"bombing / attack\"] = df[df[\"incident_type\"] == \"bombing / attack\"].replace(\"bombing / attack\", \"bombing\")"
   ]
  },
  {
   "cell_type": "code",
   "execution_count": 16,
   "metadata": {},
   "outputs": [
    {
     "data": {
      "text/html": [
       "<div>\n",
       "<style scoped>\n",
       "    .dataframe tbody tr th:only-of-type {\n",
       "        vertical-align: middle;\n",
       "    }\n",
       "\n",
       "    .dataframe tbody tr th {\n",
       "        vertical-align: top;\n",
       "    }\n",
       "\n",
       "    .dataframe thead th {\n",
       "        text-align: right;\n",
       "    }\n",
       "</style>\n",
       "<table border=\"1\" class=\"dataframe\">\n",
       "  <thead>\n",
       "    <tr style=\"text-align: right;\">\n",
       "      <th></th>\n",
       "      <th>docid</th>\n",
       "      <th>doctext</th>\n",
       "      <th>incident_type</th>\n",
       "      <th>PerpInd</th>\n",
       "      <th>PerpOrg</th>\n",
       "      <th>Target</th>\n",
       "      <th>Victim</th>\n",
       "      <th>Weapon</th>\n",
       "    </tr>\n",
       "  </thead>\n",
       "  <tbody>\n",
       "    <tr>\n",
       "      <th>0</th>\n",
       "      <td>TST3-MUC4-0001</td>\n",
       "      <td>we are not demanding that they stop their oper...</td>\n",
       "      <td>attack</td>\n",
       "      <td>[]</td>\n",
       "      <td>[]</td>\n",
       "      <td>[]</td>\n",
       "      <td>[]</td>\n",
       "      <td>[]</td>\n",
       "    </tr>\n",
       "    <tr>\n",
       "      <th>1</th>\n",
       "      <td>TST3-MUC4-0002</td>\n",
       "      <td>those accused of the assassination of six jesu...</td>\n",
       "      <td>attack</td>\n",
       "      <td>[military, some military, military suspects, a...</td>\n",
       "      <td>[armed forces]</td>\n",
       "      <td>[]</td>\n",
       "      <td>[]</td>\n",
       "      <td>[]</td>\n",
       "    </tr>\n",
       "    <tr>\n",
       "      <th>2</th>\n",
       "      <td>TST3-MUC4-0003</td>\n",
       "      <td>the national police reported today that over 1...</td>\n",
       "      <td>attack</td>\n",
       "      <td>[members of the maoist terrorist organization ...</td>\n",
       "      <td>[shining path]</td>\n",
       "      <td>[]</td>\n",
       "      <td>[enrique lopez albujar trint]</td>\n",
       "      <td>[]</td>\n",
       "    </tr>\n",
       "    <tr>\n",
       "      <th>3</th>\n",
       "      <td>TST3-MUC4-0005</td>\n",
       "      <td>salvadoran social democratic politician hector...</td>\n",
       "      <td>kidnapping</td>\n",
       "      <td>[heavily armed men]</td>\n",
       "      <td>[]</td>\n",
       "      <td>[]</td>\n",
       "      <td>[hector oqueli colindres, gilda flores]</td>\n",
       "      <td>[]</td>\n",
       "    </tr>\n",
       "    <tr>\n",
       "      <th>4</th>\n",
       "      <td>TST3-MUC4-0011</td>\n",
       "      <td>the dissemination of a document questioning co...</td>\n",
       "      <td>kidnapping</td>\n",
       "      <td>[members of the manuel gustavo chacon sovereig...</td>\n",
       "      <td>[eln, army of national liberation]</td>\n",
       "      <td>[]</td>\n",
       "      <td>[]</td>\n",
       "      <td>[]</td>\n",
       "    </tr>\n",
       "  </tbody>\n",
       "</table>\n",
       "</div>"
      ],
      "text/plain": [
       "            docid                                            doctext  \\\n",
       "0  TST3-MUC4-0001  we are not demanding that they stop their oper...   \n",
       "1  TST3-MUC4-0002  those accused of the assassination of six jesu...   \n",
       "2  TST3-MUC4-0003  the national police reported today that over 1...   \n",
       "3  TST3-MUC4-0005  salvadoran social democratic politician hector...   \n",
       "4  TST3-MUC4-0011  the dissemination of a document questioning co...   \n",
       "\n",
       "  incident_type                                            PerpInd  \\\n",
       "0        attack                                                 []   \n",
       "1        attack  [military, some military, military suspects, a...   \n",
       "2        attack  [members of the maoist terrorist organization ...   \n",
       "3    kidnapping                                [heavily armed men]   \n",
       "4    kidnapping  [members of the manuel gustavo chacon sovereig...   \n",
       "\n",
       "                              PerpOrg Target  \\\n",
       "0                                  []     []   \n",
       "1                      [armed forces]     []   \n",
       "2                      [shining path]     []   \n",
       "3                                  []     []   \n",
       "4  [eln, army of national liberation]     []   \n",
       "\n",
       "                                    Victim Weapon  \n",
       "0                                       []     []  \n",
       "1                                       []     []  \n",
       "2            [enrique lopez albujar trint]     []  \n",
       "3  [hector oqueli colindres, gilda flores]     []  \n",
       "4                                       []     []  "
      ]
     },
     "execution_count": 16,
     "metadata": {},
     "output_type": "execute_result"
    }
   ],
   "source": [
    "df.head()"
   ]
  },
  {
   "cell_type": "code",
   "execution_count": 17,
   "metadata": {},
   "outputs": [
    {
     "data": {
      "text/html": [
       "<div>\n",
       "<style scoped>\n",
       "    .dataframe tbody tr th:only-of-type {\n",
       "        vertical-align: middle;\n",
       "    }\n",
       "\n",
       "    .dataframe tbody tr th {\n",
       "        vertical-align: top;\n",
       "    }\n",
       "\n",
       "    .dataframe thead th {\n",
       "        text-align: right;\n",
       "    }\n",
       "</style>\n",
       "<table border=\"1\" class=\"dataframe\">\n",
       "  <thead>\n",
       "    <tr style=\"text-align: right;\">\n",
       "      <th></th>\n",
       "      <th>docid</th>\n",
       "      <th>doctext</th>\n",
       "      <th>incident</th>\n",
       "      <th>perpetrator</th>\n",
       "      <th>group perpetrator</th>\n",
       "      <th>target</th>\n",
       "      <th>victim</th>\n",
       "      <th>weapon</th>\n",
       "    </tr>\n",
       "  </thead>\n",
       "  <tbody>\n",
       "    <tr>\n",
       "      <th>0</th>\n",
       "      <td>TST3-MUC4-0001</td>\n",
       "      <td>we are not demanding that they stop their oper...</td>\n",
       "      <td>attack</td>\n",
       "      <td>[]</td>\n",
       "      <td>[]</td>\n",
       "      <td>[]</td>\n",
       "      <td>[]</td>\n",
       "      <td>[]</td>\n",
       "    </tr>\n",
       "    <tr>\n",
       "      <th>1</th>\n",
       "      <td>TST3-MUC4-0002</td>\n",
       "      <td>those accused of the assassination of six jesu...</td>\n",
       "      <td>attack</td>\n",
       "      <td>[military, some military, military suspects, a...</td>\n",
       "      <td>[armed forces]</td>\n",
       "      <td>[]</td>\n",
       "      <td>[]</td>\n",
       "      <td>[]</td>\n",
       "    </tr>\n",
       "    <tr>\n",
       "      <th>2</th>\n",
       "      <td>TST3-MUC4-0003</td>\n",
       "      <td>the national police reported today that over 1...</td>\n",
       "      <td>attack</td>\n",
       "      <td>[members of the maoist terrorist organization ...</td>\n",
       "      <td>[shining path]</td>\n",
       "      <td>[]</td>\n",
       "      <td>[enrique lopez albujar trint]</td>\n",
       "      <td>[]</td>\n",
       "    </tr>\n",
       "    <tr>\n",
       "      <th>3</th>\n",
       "      <td>TST3-MUC4-0005</td>\n",
       "      <td>salvadoran social democratic politician hector...</td>\n",
       "      <td>kidnapping</td>\n",
       "      <td>[heavily armed men]</td>\n",
       "      <td>[]</td>\n",
       "      <td>[]</td>\n",
       "      <td>[hector oqueli colindres, gilda flores]</td>\n",
       "      <td>[]</td>\n",
       "    </tr>\n",
       "    <tr>\n",
       "      <th>4</th>\n",
       "      <td>TST3-MUC4-0011</td>\n",
       "      <td>the dissemination of a document questioning co...</td>\n",
       "      <td>kidnapping</td>\n",
       "      <td>[members of the manuel gustavo chacon sovereig...</td>\n",
       "      <td>[eln, army of national liberation]</td>\n",
       "      <td>[]</td>\n",
       "      <td>[]</td>\n",
       "      <td>[]</td>\n",
       "    </tr>\n",
       "  </tbody>\n",
       "</table>\n",
       "</div>"
      ],
      "text/plain": [
       "            docid                                            doctext  \\\n",
       "0  TST3-MUC4-0001  we are not demanding that they stop their oper...   \n",
       "1  TST3-MUC4-0002  those accused of the assassination of six jesu...   \n",
       "2  TST3-MUC4-0003  the national police reported today that over 1...   \n",
       "3  TST3-MUC4-0005  salvadoran social democratic politician hector...   \n",
       "4  TST3-MUC4-0011  the dissemination of a document questioning co...   \n",
       "\n",
       "     incident                                        perpetrator  \\\n",
       "0      attack                                                 []   \n",
       "1      attack  [military, some military, military suspects, a...   \n",
       "2      attack  [members of the maoist terrorist organization ...   \n",
       "3  kidnapping                                [heavily armed men]   \n",
       "4  kidnapping  [members of the manuel gustavo chacon sovereig...   \n",
       "\n",
       "                    group perpetrator target  \\\n",
       "0                                  []     []   \n",
       "1                      [armed forces]     []   \n",
       "2                      [shining path]     []   \n",
       "3                                  []     []   \n",
       "4  [eln, army of national liberation]     []   \n",
       "\n",
       "                                    victim weapon  \n",
       "0                                       []     []  \n",
       "1                                       []     []  \n",
       "2            [enrique lopez albujar trint]     []  \n",
       "3  [hector oqueli colindres, gilda flores]     []  \n",
       "4                                       []     []  "
      ]
     },
     "execution_count": 17,
     "metadata": {},
     "output_type": "execute_result"
    }
   ],
   "source": [
    "# column renaming\n",
    "df = df.rename(columns={\n",
    "    \"incident_type\": \"incident\",\n",
    "    \"PerpInd\": \"perpetrator\",\n",
    "    \"PerpOrg\": \"group perpetrator\",\n",
    "    \"Target\": \"target\",\n",
    "    \"Victim\": \"victim\",\n",
    "    \"Weapon\": \"weapon\"})\n",
    "df.head()"
   ]
  },
  {
   "cell_type": "code",
   "execution_count": 18,
   "metadata": {},
   "outputs": [],
   "source": [
    "# make incident to a list\n",
    "df[\"incident\"] = df[\"incident\"].apply(lambda x: [x])"
   ]
  },
  {
   "cell_type": "code",
   "execution_count": 19,
   "metadata": {},
   "outputs": [
    {
     "data": {
      "text/html": [
       "<div>\n",
       "<style scoped>\n",
       "    .dataframe tbody tr th:only-of-type {\n",
       "        vertical-align: middle;\n",
       "    }\n",
       "\n",
       "    .dataframe tbody tr th {\n",
       "        vertical-align: top;\n",
       "    }\n",
       "\n",
       "    .dataframe thead th {\n",
       "        text-align: right;\n",
       "    }\n",
       "</style>\n",
       "<table border=\"1\" class=\"dataframe\">\n",
       "  <thead>\n",
       "    <tr style=\"text-align: right;\">\n",
       "      <th></th>\n",
       "      <th>docid</th>\n",
       "      <th>doctext</th>\n",
       "      <th>incident</th>\n",
       "      <th>perpetrator</th>\n",
       "      <th>group perpetrator</th>\n",
       "      <th>target</th>\n",
       "      <th>victim</th>\n",
       "      <th>weapon</th>\n",
       "    </tr>\n",
       "  </thead>\n",
       "  <tbody>\n",
       "    <tr>\n",
       "      <th>0</th>\n",
       "      <td>TST3-MUC4-0001</td>\n",
       "      <td>we are not demanding that they stop their oper...</td>\n",
       "      <td>[attack]</td>\n",
       "      <td>[]</td>\n",
       "      <td>[]</td>\n",
       "      <td>[]</td>\n",
       "      <td>[]</td>\n",
       "      <td>[]</td>\n",
       "    </tr>\n",
       "    <tr>\n",
       "      <th>1</th>\n",
       "      <td>TST3-MUC4-0002</td>\n",
       "      <td>those accused of the assassination of six jesu...</td>\n",
       "      <td>[attack]</td>\n",
       "      <td>[military, some military, military suspects, a...</td>\n",
       "      <td>[armed forces]</td>\n",
       "      <td>[]</td>\n",
       "      <td>[]</td>\n",
       "      <td>[]</td>\n",
       "    </tr>\n",
       "    <tr>\n",
       "      <th>2</th>\n",
       "      <td>TST3-MUC4-0003</td>\n",
       "      <td>the national police reported today that over 1...</td>\n",
       "      <td>[attack]</td>\n",
       "      <td>[members of the maoist terrorist organization ...</td>\n",
       "      <td>[shining path]</td>\n",
       "      <td>[]</td>\n",
       "      <td>[enrique lopez albujar trint]</td>\n",
       "      <td>[]</td>\n",
       "    </tr>\n",
       "    <tr>\n",
       "      <th>3</th>\n",
       "      <td>TST3-MUC4-0005</td>\n",
       "      <td>salvadoran social democratic politician hector...</td>\n",
       "      <td>[kidnapping]</td>\n",
       "      <td>[heavily armed men]</td>\n",
       "      <td>[]</td>\n",
       "      <td>[]</td>\n",
       "      <td>[hector oqueli colindres, gilda flores]</td>\n",
       "      <td>[]</td>\n",
       "    </tr>\n",
       "    <tr>\n",
       "      <th>4</th>\n",
       "      <td>TST3-MUC4-0011</td>\n",
       "      <td>the dissemination of a document questioning co...</td>\n",
       "      <td>[kidnapping]</td>\n",
       "      <td>[members of the manuel gustavo chacon sovereig...</td>\n",
       "      <td>[eln, army of national liberation]</td>\n",
       "      <td>[]</td>\n",
       "      <td>[]</td>\n",
       "      <td>[]</td>\n",
       "    </tr>\n",
       "  </tbody>\n",
       "</table>\n",
       "</div>"
      ],
      "text/plain": [
       "            docid                                            doctext  \\\n",
       "0  TST3-MUC4-0001  we are not demanding that they stop their oper...   \n",
       "1  TST3-MUC4-0002  those accused of the assassination of six jesu...   \n",
       "2  TST3-MUC4-0003  the national police reported today that over 1...   \n",
       "3  TST3-MUC4-0005  salvadoran social democratic politician hector...   \n",
       "4  TST3-MUC4-0011  the dissemination of a document questioning co...   \n",
       "\n",
       "       incident                                        perpetrator  \\\n",
       "0      [attack]                                                 []   \n",
       "1      [attack]  [military, some military, military suspects, a...   \n",
       "2      [attack]  [members of the maoist terrorist organization ...   \n",
       "3  [kidnapping]                                [heavily armed men]   \n",
       "4  [kidnapping]  [members of the manuel gustavo chacon sovereig...   \n",
       "\n",
       "                    group perpetrator target  \\\n",
       "0                                  []     []   \n",
       "1                      [armed forces]     []   \n",
       "2                      [shining path]     []   \n",
       "3                                  []     []   \n",
       "4  [eln, army of national liberation]     []   \n",
       "\n",
       "                                    victim weapon  \n",
       "0                                       []     []  \n",
       "1                                       []     []  \n",
       "2            [enrique lopez albujar trint]     []  \n",
       "3  [hector oqueli colindres, gilda flores]     []  \n",
       "4                                       []     []  "
      ]
     },
     "execution_count": 19,
     "metadata": {},
     "output_type": "execute_result"
    }
   ],
   "source": [
    "df.head()"
   ]
  },
  {
   "cell_type": "code",
   "execution_count": 20,
   "metadata": {},
   "outputs": [],
   "source": [
    "df.to_parquet(\"muc.parquet\")"
   ]
  }
 ],
 "metadata": {
  "kernelspec": {
   "display_name": "Python 3",
   "language": "python",
   "name": "python3"
  },
  "language_info": {
   "codemirror_mode": {
    "name": "ipython",
    "version": 3
   },
   "file_extension": ".py",
   "mimetype": "text/x-python",
   "name": "python",
   "nbconvert_exporter": "python",
   "pygments_lexer": "ipython3",
   "version": "3.11.6"
  }
 },
 "nbformat": 4,
 "nbformat_minor": 2
}
