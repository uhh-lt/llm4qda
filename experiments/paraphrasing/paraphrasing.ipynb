{
 "cells": [
  {
   "cell_type": "code",
   "execution_count": 1,
   "metadata": {},
   "outputs": [],
   "source": [
    "from pathlib import Path\n",
    "import json\n",
    "import pandas as pd\n",
    "from ollama import Client\n",
    "from tqdm import tqdm\n",
    "import string"
   ]
  },
  {
   "cell_type": "code",
   "execution_count": 6,
   "metadata": {},
   "outputs": [
    {
     "data": {
      "text/html": [
       "<div>\n",
       "<style scoped>\n",
       "    .dataframe tbody tr th:only-of-type {\n",
       "        vertical-align: middle;\n",
       "    }\n",
       "\n",
       "    .dataframe tbody tr th {\n",
       "        vertical-align: top;\n",
       "    }\n",
       "\n",
       "    .dataframe thead th {\n",
       "        text-align: right;\n",
       "    }\n",
       "</style>\n",
       "<table border=\"1\" class=\"dataframe\">\n",
       "  <thead>\n",
       "    <tr style=\"text-align: right;\">\n",
       "      <th></th>\n",
       "      <th>Model</th>\n",
       "      <th>Dataset</th>\n",
       "      <th>Language</th>\n",
       "      <th>Task</th>\n",
       "      <th>Rouge 1</th>\n",
       "      <th>Rouge 2</th>\n",
       "      <th>Rouge L</th>\n",
       "      <th>Rouge Lsum</th>\n",
       "      <th>Exact Match</th>\n",
       "      <th>F1</th>\n",
       "      <th>METEOR</th>\n",
       "    </tr>\n",
       "  </thead>\n",
       "  <tbody>\n",
       "    <tr>\n",
       "      <th>0</th>\n",
       "      <td>gemma2</td>\n",
       "      <td>DisflQA</td>\n",
       "      <td>en</td>\n",
       "      <td>CORR</td>\n",
       "      <td>83.28</td>\n",
       "      <td>71.99</td>\n",
       "      <td>80.66</td>\n",
       "      <td>80.67</td>\n",
       "      <td>21.77</td>\n",
       "      <td>83.10</td>\n",
       "      <td>89.08</td>\n",
       "    </tr>\n",
       "    <tr>\n",
       "      <th>1</th>\n",
       "      <td>llama3.1</td>\n",
       "      <td>DisflQA</td>\n",
       "      <td>en</td>\n",
       "      <td>CORR</td>\n",
       "      <td>78.94</td>\n",
       "      <td>65.33</td>\n",
       "      <td>75.80</td>\n",
       "      <td>75.80</td>\n",
       "      <td>11.45</td>\n",
       "      <td>78.46</td>\n",
       "      <td>85.69</td>\n",
       "    </tr>\n",
       "    <tr>\n",
       "      <th>2</th>\n",
       "      <td>mistral</td>\n",
       "      <td>DisflQA</td>\n",
       "      <td>en</td>\n",
       "      <td>CORR</td>\n",
       "      <td>78.21</td>\n",
       "      <td>63.10</td>\n",
       "      <td>75.24</td>\n",
       "      <td>75.24</td>\n",
       "      <td>15.21</td>\n",
       "      <td>77.77</td>\n",
       "      <td>81.38</td>\n",
       "    </tr>\n",
       "    <tr>\n",
       "      <th>3</th>\n",
       "      <td>gemma2</td>\n",
       "      <td>DISCO</td>\n",
       "      <td>en</td>\n",
       "      <td>CORR</td>\n",
       "      <td>92.40</td>\n",
       "      <td>85.56</td>\n",
       "      <td>91.63</td>\n",
       "      <td>91.64</td>\n",
       "      <td>64.44</td>\n",
       "      <td>92.59</td>\n",
       "      <td>91.55</td>\n",
       "    </tr>\n",
       "    <tr>\n",
       "      <th>4</th>\n",
       "      <td>llama3.1</td>\n",
       "      <td>DISCO</td>\n",
       "      <td>en</td>\n",
       "      <td>CORR</td>\n",
       "      <td>91.20</td>\n",
       "      <td>84.57</td>\n",
       "      <td>90.58</td>\n",
       "      <td>90.58</td>\n",
       "      <td>64.01</td>\n",
       "      <td>91.43</td>\n",
       "      <td>91.07</td>\n",
       "    </tr>\n",
       "  </tbody>\n",
       "</table>\n",
       "</div>"
      ],
      "text/plain": [
       "      Model  Dataset Language  Task  Rouge 1  Rouge 2  Rouge L  Rouge Lsum  \\\n",
       "0    gemma2  DisflQA       en  CORR    83.28    71.99    80.66       80.67   \n",
       "1  llama3.1  DisflQA       en  CORR    78.94    65.33    75.80       75.80   \n",
       "2   mistral  DisflQA       en  CORR    78.21    63.10    75.24       75.24   \n",
       "3    gemma2    DISCO       en  CORR    92.40    85.56    91.63       91.64   \n",
       "4  llama3.1    DISCO       en  CORR    91.20    84.57    90.58       90.58   \n",
       "\n",
       "   Exact Match     F1  METEOR  \n",
       "0        21.77  83.10   89.08  \n",
       "1        11.45  78.46   85.69  \n",
       "2        15.21  77.77   81.38  \n",
       "3        64.44  92.59   91.55  \n",
       "4        64.01  91.43   91.07  "
      ]
     },
     "execution_count": 6,
     "metadata": {},
     "output_type": "execute_result"
    }
   ],
   "source": [
    "df = pd.read_csv('experiments/paraphrasing/task4report.csv')\n",
    "df.head()"
   ]
  },
  {
   "cell_type": "code",
   "execution_count": 8,
   "metadata": {},
   "outputs": [],
   "source": [
    "# remove columns dataset and language\n",
    "df = df.drop(columns=['Dataset', 'Language'])"
   ]
  },
  {
   "cell_type": "code",
   "execution_count": 9,
   "metadata": {},
   "outputs": [],
   "source": [
    "# aggregate by model and task, averaging over the runs\n",
    "df = df.groupby(['Model', 'Task']).mean().reset_index()"
   ]
  },
  {
   "cell_type": "code",
   "execution_count": 13,
   "metadata": {},
   "outputs": [],
   "source": [
    "df = df.round(2)"
   ]
  },
  {
   "cell_type": "code",
   "execution_count": 14,
   "metadata": {},
   "outputs": [],
   "source": [
    "df.to_csv('experiments/paraphrasing/task4report_aggregated.csv', index=False)"
   ]
  },
  {
   "cell_type": "code",
   "execution_count": null,
   "metadata": {},
   "outputs": [],
   "source": [
    "client = Client(host='http://localhost:19290')\n",
    "client.list()"
   ]
  },
  {
   "cell_type": "code",
   "execution_count": null,
   "metadata": {},
   "outputs": [],
   "source": []
  },
  {
   "cell_type": "code",
   "execution_count": null,
   "metadata": {},
   "outputs": [],
   "source": [
    "df = pd.read_parquet(\"datasets/disco/disco_en.parquet\")\n",
    "df.head()"
   ]
  },
  {
   "cell_type": "code",
   "execution_count": null,
   "metadata": {},
   "outputs": [],
   "source": [
    "system_prompt = \"You are a system to support the analysis of large amounts of text. You will assist the user by rephrasing the provided texts. You will always answer in the required format and use no other formatting than expected by the user!\""
   ]
  },
  {
   "cell_type": "code",
   "execution_count": null,
   "metadata": {},
   "outputs": [],
   "source": [
    "user_prompt = \"\"\"\n",
    "I have a noisy, disfluent text. I need you to remove all disfluencies from the text below. Keep the text as close to the original as possible, but make sure it is fluent to read.\n",
    "\n",
    "{}\n",
    "\n",
    "Respond in the following format:\n",
    "Fluent text: <the corrected text>\n",
    "\n",
    "e.g.\n",
    "Fluent text: This picture looks great.\n",
    "\n",
    "Remember, you MUST keep to the original text as much as possible, do not generate new content!\n",
    "\"\"\""
   ]
  },
  {
   "cell_type": "code",
   "execution_count": null,
   "metadata": {},
   "outputs": [],
   "source": [
    "def parse_response(response):\n",
    "    result = \"\"\n",
    "\n",
    "    for line in response.strip().split(\"\\n\"):\n",
    "        if not line.strip():\n",
    "            continue\n",
    "        if \":\" not in line:\n",
    "            continue\n",
    "\n",
    "        splitted_line = line.split(\":\")\n",
    "        if len(splitted_line) != 2:\n",
    "            continue\n",
    "\n",
    "        result = splitted_line[1].strip()\n",
    "\n",
    "    return result"
   ]
  },
  {
   "cell_type": "code",
   "execution_count": null,
   "metadata": {},
   "outputs": [],
   "source": [
    "messages = []\n",
    "golds = []\n",
    "preds = []\n",
    "for idx, sample in tqdm(df[:10].iterrows(), desc=\"Evaluating\"):\n",
    "    response = client.chat(model='gemma2', messages=[\n",
    "        {\n",
    "            'role': 'system',\n",
    "            'content': system_prompt.strip(),\n",
    "        },\n",
    "        {\n",
    "            'role': 'user',\n",
    "            'content': user_prompt.format(sample[\"Disfluent Sentence\"]).strip(),\n",
    "        },\n",
    "    ])\n",
    "    message = response[\"message\"][\"content\"]\n",
    "    pred = parse_response(message)\n",
    "\n",
    "    messages.append(message)\n",
    "    preds.append(pred)\n",
    "    golds.append(sample[\"Fluent Sentence\"])\n",
    "\n",
    "    print(sample[\"Disfluent Sentence\"])\n",
    "    print(\"Gold text:\", sample[\"Fluent Sentence\"])\n",
    "    print(message)\n",
    "    print()"
   ]
  },
  {
   "cell_type": "code",
   "execution_count": null,
   "metadata": {},
   "outputs": [],
   "source": [
    "import evaluate"
   ]
  },
  {
   "cell_type": "code",
   "execution_count": null,
   "metadata": {},
   "outputs": [],
   "source": [
    "rouge = evaluate.load(\"rouge\")"
   ]
  },
  {
   "cell_type": "code",
   "execution_count": null,
   "metadata": {},
   "outputs": [],
   "source": [
    "preds"
   ]
  },
  {
   "cell_type": "code",
   "execution_count": null,
   "metadata": {},
   "outputs": [],
   "source": [
    "golds"
   ]
  },
  {
   "cell_type": "code",
   "execution_count": null,
   "metadata": {},
   "outputs": [],
   "source": [
    "from typing import List\n",
    "\n",
    "\n",
    "def remove_punctuation(text):\n",
    "    return text.translate(str.maketrans(\"\", \"\", string.punctuation))\n",
    "\n",
    "def to_squad(text: List[str], is_gold) -> List[str]:\n",
    "    result = []\n",
    "    for idx, sentence in enumerate(text):\n",
    "        if is_gold:\n",
    "            result.append({'answers': {\"answer_start\": [0], \"text\": [sentence]}, \"id\": str(idx)})\n",
    "        else:\n",
    "            result.append({'prediction_text': sentence, 'id': str(idx), 'no_answer_probability': 0.0})\n",
    "\n",
    "    return result\n"
   ]
  },
  {
   "cell_type": "code",
   "execution_count": null,
   "metadata": {},
   "outputs": [],
   "source": [
    "rouge.compute(predictions=preds, references=golds)"
   ]
  },
  {
   "cell_type": "code",
   "execution_count": null,
   "metadata": {},
   "outputs": [],
   "source": [
    "rouge.compute(predictions=[remove_punctuation(x) for x in preds], references=[remove_punctuation(x) for x in golds])"
   ]
  },
  {
   "cell_type": "code",
   "execution_count": null,
   "metadata": {},
   "outputs": [],
   "source": [
    "preds = [remove_punctuation(x) for x in preds]\n",
    "golds = [remove_punctuation(x) for x in golds]\n",
    "\n",
    "preds_transformed = to_squad(preds, False)\n",
    "golds_transformed = to_squad(golds, True)"
   ]
  },
  {
   "cell_type": "code",
   "execution_count": null,
   "metadata": {},
   "outputs": [],
   "source": [
    "squad_v2_metric = evaluate.load(\"squad_v2\")\n",
    "print(squad_v2_metric.compute(references=golds_transformed, predictions=preds_transformed))"
   ]
  },
  {
   "cell_type": "markdown",
   "metadata": {},
   "source": [
    "# Ergebnisse angucken"
   ]
  },
  {
   "cell_type": "code",
   "execution_count": 1,
   "metadata": {},
   "outputs": [],
   "source": [
    "import pandas as pd\n",
    "\n",
    "\n",
    "df = pd.read_parquet(\"experiments/paraphrasing/paraphrasing_mlsum.parquet\")"
   ]
  },
  {
   "cell_type": "code",
   "execution_count": 2,
   "metadata": {},
   "outputs": [
    {
     "data": {
      "text/plain": [
       "['Die Kapitänin der Sea Watch 3, Carola Rackete, brachte trotz Blockades durch die italienische Regierung 40 Migranten nach Lampedusa. Sie argumentierte mit einem Notstand an Bord und droht nun wegen Beihilfe zur illegalen Einwanderung mehrere Anklagen. International gibt es große Solidarität mit Rackete.',\n",
       " 'Carola Rackete rettete Flüchtlinge aus Seenot und brachte sie nach Lampedusa, da kein anderes Land bereit war, sie aufzunehmen.  Sie wird nun wegen ihres Handelns angeklagt, während Italien unter Salvini die Hafenblockade beibehält und Flüchtlingshilfen kriminalisiert.',\n",
       " 'Der sächsische Ministerpräsident Kretschmer hielt eine Rede vor der CDU-Delegation, in der er sich gegen Rechtsextremismus aussprach und ein starkes Programm für Sachsen vorstellte. Er will das Land sicherer machen, die Wirtschaft stärken und junge Menschen anziehen, während er die AfD als Gegner bezeichnet.',\n",
       " 'Trotz der Wiederaufnahme der Handelsgespräche zwischen USA und China besteht die Gefahr eines erneuten Scheiterns aufgrund fundamentaler Gegensätze. Ein Kompromiss scheint unmöglich, solange beide Seiten Handel als Ausscheidungskampf begreifen.  Der Handelskrieg schadet der Weltwirtschaft durch gedämpftes Wachstum und sinkendes Vertrauen.',\n",
       " 'Obwohl Mieten in einigen deutschen Großstädten stark gestiegen sind, ist eine allgemeine Mietenexplosion in Deutschland nicht gegeben. Der Mietindex ist zwischen 2000 und 2018 um 24,1 % gestiegen, während der Verbraucherpreisindex um 29,9 % stieg. Private Kleinvermieter begrenzen die Mieterhöhungen. Markante Steigerungen finden vor allem bei Neu- und Wiedervermietungsmieten in begehrten Wohnlagen statt.',\n",
       " 'Der sächsische SPD-Chef Martin Dulig wurde mit einem Soft-Air-Nachbau eines Sturmgewehrs bedroht. Die Polizei ermittelt und Kretschmer verurteilte die Bedrohung als \"Riesensauerei\".',\n",
       " 'Angela Merkel kündigt nach dem G20-Gipfel einen Kompromiss zum EU-Spitzenkandidaten-Streit an. Frans Timmermans wird neuer EU-Kommissionspräsident, Weber erhält eine führende Position in der Kommission.  Merkel betont die Bedeutung des Spitzenkandidaten-Prozesses und das Zusammenspiel von Rat und Parlament.',\n",
       " 'Xi Jinping und Donald Trump wollen Handelsgespräche aufnehmen. Beide sind bereit, Beziehungen zu verbessern und eine Einigung zu erzielen. China will zusätzliche US-Landwirtschaftsprodukte kaufen und Huawei darf von amerikanischen Unternehmen beliefert werden. Trump erklärte sich bereit, Kim Jong-un an der Grenze zu treffen.',\n",
       " 'Das Rettungsschiff Sea Watch 3 mit 40 geretteten Migranten legte in Lampedusa an. Kapitänin Carola Rackete wurde festgenommen, da sie gegen ein italienisches Verbot fuhr.  Sea-Watch sucht die Aufnahme der Migranten durch Deutschland, Portugal, Frankreich und Luxemburg.',\n",
       " 'Präsident Trump bot Kim Jong-un ein spontanes Treffen an der innerkoreanischen Grenze an, um sich die Hand zu schütteln. Die USA sind bereit für Gespräche über atomare Abrüstung, trotz verhärteter Positionen zwischen den beiden Ländern.']"
      ]
     },
     "execution_count": 2,
     "metadata": {},
     "output_type": "execute_result"
    }
   ],
   "source": [
    "df[\"Prediction\"].tolist()"
   ]
  },
  {
   "cell_type": "code",
   "execution_count": 3,
   "metadata": {},
   "outputs": [
    {
     "data": {
      "text/plain": [
       "['Carola Rackete ist auf Lampedusa festgenommen worden. Außenminister Heiko Maas und sein Kollege Jean Asselborn solidarisierten sich mit der Kapitänin der \"Sea Watch 3\". Andere kritisierten ihr Anlegemanöver.',\n",
       " 'Carola Rackete hat gemacht, was selbstverständlich sein sollte: Menschen aus Seenot retten. Dass ihr dafür nun Haft droht, ist auch für Europa ein Armutszeugnis.',\n",
       " 'Die sächsische CDU bereitet sich beim Landesparteitag auf einen harten Wahlkampf vor. Ministerpräsident Kretschmer macht klar, wo der Gegner steht - und hält ein Plädoyer gegen Rechtsextremismus.',\n",
       " 'Dass die USA und China ihre Handelsgespräche wiederaufnehmen, ist erst einmal eine gute Nachricht. Solange beide Seiten Handel aber als eine Art Ausscheidungskampf begreifen, ist ein Kompromiss unmöglich.',\n",
       " 'Die Kosten für das Wohnen sind nicht so extrem gestiegen, wie viele behaupten.',\n",
       " 'Unbekannte haben dem sächsischen SPD-Vorsitzenden Martin Dulig einen Sturmgewehr-Nachbau zugeschickt - an seine Privatadresse. Ministerpräsident Kretschmer spricht von einer \"Riesensauerei\".',\n",
       " 'Merkel kann Weber nicht als Juncker-Nachfolger durchsetzen und auch Macrons Favoritin Vestager bekommt den Posten nicht. Warum Timmermans ein gesichtswahrender Kompromiss sein könnte.',\n",
       " 'Der US-Präsident nennt Xi Jinping den \"vielleicht besten Präsidenten, den China in den letzten 200 Jahren\" gehabt habe. US-Unternehmen bekommen im Umgang mit Huawei wieder mehr Freiheit, China hingegen soll Landwirtschaftsprodukte in den USA kaufen.',\n",
       " 'Ohne italienische Erlaubnis legte sie mit ihrem Schiff mit 40 Migranten an Bord im Hafen von Lampedusa an und wird umgehend aufgegriffen. Rackete beruft sich auf das Seerecht.',\n",
       " 'Der US-Präsident hat dem nordkoreanischen Diktator via Twitter ein spontanes Treffen in der demilitarisierten Zone zwischen Nord- und Südkorea angeboten. Für die Grenze hat er nichts als Bewunderung übrig.']"
      ]
     },
     "execution_count": 3,
     "metadata": {},
     "output_type": "execute_result"
    }
   ],
   "source": [
    "df[\"Gold\"].tolist()"
   ]
  },
  {
   "cell_type": "markdown",
   "metadata": {},
   "source": [
    "# ML SUM"
   ]
  },
  {
   "cell_type": "code",
   "execution_count": null,
   "metadata": {},
   "outputs": [],
   "source": [
    "from datasets import load_dataset\n",
    "\n",
    "dataset = load_dataset(\"mlsum\", \"de\")"
   ]
  },
  {
   "cell_type": "code",
   "execution_count": null,
   "metadata": {},
   "outputs": [],
   "source": [
    "dataset"
   ]
  },
  {
   "cell_type": "code",
   "execution_count": null,
   "metadata": {},
   "outputs": [],
   "source": [
    "dataset[\"test\"]"
   ]
  },
  {
   "cell_type": "code",
   "execution_count": null,
   "metadata": {},
   "outputs": [],
   "source": [
    "dataset[\"test\"][0]\n"
   ]
  },
  {
   "cell_type": "markdown",
   "metadata": {},
   "source": [
    "# CNN DM"
   ]
  },
  {
   "cell_type": "code",
   "execution_count": null,
   "metadata": {},
   "outputs": [],
   "source": [
    "dataset = load_dataset(\"abisee/cnn_dailymail\", \"3.0.0\")"
   ]
  },
  {
   "cell_type": "code",
   "execution_count": null,
   "metadata": {},
   "outputs": [],
   "source": [
    "dataset"
   ]
  },
  {
   "cell_type": "code",
   "execution_count": null,
   "metadata": {},
   "outputs": [],
   "source": [
    "dataset[\"test\"]"
   ]
  },
  {
   "cell_type": "code",
   "execution_count": null,
   "metadata": {},
   "outputs": [],
   "source": [
    "dataset[\"train\"][\"highlights\"][4]"
   ]
  },
  {
   "cell_type": "code",
   "execution_count": null,
   "metadata": {},
   "outputs": [],
   "source": [
    "dataset[\"test\"][\"article\"][0]"
   ]
  },
  {
   "cell_type": "code",
   "execution_count": null,
   "metadata": {},
   "outputs": [],
   "source": []
  }
 ],
 "metadata": {
  "kernelspec": {
   "display_name": "Python 3",
   "language": "python",
   "name": "python3"
  },
  "language_info": {
   "codemirror_mode": {
    "name": "ipython",
    "version": 3
   },
   "file_extension": ".py",
   "mimetype": "text/x-python",
   "name": "python",
   "nbconvert_exporter": "python",
   "pygments_lexer": "ipython3",
   "version": "3.11.6"
  }
 },
 "nbformat": 4,
 "nbformat_minor": 2
}
