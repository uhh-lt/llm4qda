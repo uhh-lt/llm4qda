{
 "cells": [
  {
   "cell_type": "code",
   "execution_count": null,
   "metadata": {},
   "outputs": [],
   "source": [
    "from pathlib import Path\n",
    "import json\n",
    "import pandas as pd\n",
    "from ollama import Client\n",
    "from tqdm import tqdm"
   ]
  },
  {
   "cell_type": "code",
   "execution_count": null,
   "metadata": {},
   "outputs": [],
   "source": [
    "df = pd.read_parquet(\"datasets/muc/muc.parquet\")\n",
    "df.head()"
   ]
  },
  {
   "cell_type": "code",
   "execution_count": null,
   "metadata": {},
   "outputs": [],
   "source": [
    "unique_incident_types = df[\"incident_type\"].unique()\n",
    "unique_incident_types"
   ]
  },
  {
   "cell_type": "code",
   "execution_count": null,
   "metadata": {},
   "outputs": [],
   "source": [
    "labels = {\n",
    "    \"Incident\": \"One of 'Arson', 'Attack', 'Bombing', 'Kidnapping', 'Robbery' or 'None'\",\n",
    "    \"Perpetrator\": \"An individual perpetrator\",\n",
    "    \"Group Perpetrator\": \"A group or organizational perpetrator\",\n",
    "    \"Victim\": \"Sentient victims of the incident\",\n",
    "    \"Target\": \"Physical objects targeted by the incident\",\n",
    "    \"Weapon\": \"Weapons employed by the perpetrators\",\n",
    "}"
   ]
  },
  {
   "cell_type": "code",
   "execution_count": null,
   "metadata": {},
   "outputs": [],
   "source": [
    "slots = [\"incident\", \"perpetrator\", \"group perpetrator\", \"victim\", \"target\", \"weapon\"]"
   ]
  },
  {
   "cell_type": "code",
   "execution_count": null,
   "metadata": {},
   "outputs": [],
   "source": [
    "client = Client(host='http://localhost:19290')\n",
    "client.list()"
   ]
  },
  {
   "cell_type": "code",
   "execution_count": null,
   "metadata": {},
   "outputs": [],
   "source": [
    "system_prompt = \"You are a system to support the analysis of large amounts of text. You will assist the user by extracting the required information from the provided documents. You will always answer in the required format and use no other formatting than expected by the user!\""
   ]
  },
  {
   "cell_type": "code",
   "execution_count": null,
   "metadata": {},
   "outputs": [],
   "source": [
    "user_prompt = \"\"\"\n",
    "I want you to extract the following information about incidents from the text below. The slots are:\n",
    "\n",
    "Incident: One of 'Arson', 'Attack', 'Bombing', 'Kidnapping', 'Robbery'\n",
    "Perpetrator: An individual perpetrator\n",
    "Group Perpetrator: A group or organizational perpetrator\n",
    "Victim: Sentient victims of the incident\n",
    "Target: Physical objects targeted by the incident\n",
    "Weapon: Weapons employed by the perpetrators\n",
    "\n",
    "Please extract the information about the incidents (if any) from the following text:\n",
    "{}\n",
    "\n",
    "Respond in the following format:\n",
    "Incident: <incident type>\n",
    "Perpetrator: <perpetrator>\n",
    "Group Perpetrator: <group perpetrator>\n",
    "Victim: <victim>\n",
    "Target: <target>\n",
    "Weapon: <weapon>\n",
    "\n",
    "e.g.\n",
    "Incident: Arson\n",
    "Perpetrator: John Doe\n",
    "Group Perpetrator: None\n",
    "Victim: None\n",
    "Target: Building\n",
    "Weapon: Matches\n",
    "\n",
    "If there is no information about a certain slot in the provided text, leave it empty with \"None\".\n",
    "Also, if there is no incident in the text, you have to leave the rest of the slots empty.\n",
    "\n",
    "Remember, you MUST extract the information verbatim from the text, do not generate it!\n",
    "\"\"\""
   ]
  },
  {
   "cell_type": "code",
   "execution_count": null,
   "metadata": {},
   "outputs": [],
   "source": [
    "df.head()"
   ]
  },
  {
   "cell_type": "code",
   "execution_count": null,
   "metadata": {},
   "outputs": [],
   "source": [
    "from typing import Dict, List\n",
    "\n",
    "\n",
    "def parse_response(response: str) -> Dict[str, List[str]]:\n",
    "    result = {\n",
    "        \"incident\": None,\n",
    "        \"perpetrator\": [],\n",
    "        \"group perpetrator\": [],\n",
    "        \"victim\": [],\n",
    "        \"target\": [],\n",
    "        \"weapon\": [],\n",
    "    }\n",
    "\n",
    "    for line in response.strip().split(\"\\n\"):\n",
    "        if not line.strip():\n",
    "            continue\n",
    "        if \":\" not in line:\n",
    "            continue\n",
    "\n",
    "        splitted_line = line.split(\":\")\n",
    "        if len(splitted_line) != 2:\n",
    "            continue\n",
    "        \n",
    "        slot = splitted_line[0].strip()\n",
    "        answer = splitted_line[1].strip()\n",
    "\n",
    "        if slot.startswith(\"<\"):\n",
    "            slot = slot[1:]\n",
    "        if slot.endswith(\">\"):\n",
    "            slot = slot[:-1]\n",
    "\n",
    "        if slot.startswith(\"**\"):\n",
    "            slot = slot[2:]\n",
    "        if slot.endswith(\"**\"):\n",
    "            slot = slot[:-2]\n",
    "\n",
    "        if slot.lower() not in result:\n",
    "            continue\n",
    "\n",
    "        if answer.lower() == \"none\":\n",
    "            continue\n",
    "\n",
    "        answer = answer.strip().lower()\n",
    "\n",
    "        result[slot.lower()] = answer\n",
    "\n",
    "    return result"
   ]
  },
  {
   "cell_type": "code",
   "execution_count": null,
   "metadata": {},
   "outputs": [],
   "source": [
    "golds = []\n",
    "preds = []\n",
    "messages = []   \n",
    "for idx, sample in tqdm(df[:10].iterrows(), desc=\"Evaluating\"):\n",
    "    gold = {\n",
    "        \"incident\": [sample[\"incident_type\"]],\n",
    "        \"perpetrator\": sample[\"PerpInd\"].tolist(),\n",
    "        \"group perpetrator\": sample[\"PerpOrg\"].tolist(),\n",
    "        \"victim\": sample[\"Victim\"].tolist(),\n",
    "        \"target\": sample[\"Target\"].tolist(),\n",
    "        \"weapon\": sample[\"Weapon\"].tolist()\n",
    "    }\n",
    "    document = sample[\"doctext\"]\n",
    "\n",
    "    response = client.chat(model='gemma2', messages=[\n",
    "        {\n",
    "            'role': 'system',\n",
    "            'content': system_prompt.strip(),\n",
    "        },\n",
    "        {\n",
    "        'role': 'user',\n",
    "        'content': user_prompt.format(document).strip(),\n",
    "        },\n",
    "    ])\n",
    "    message = response[\"message\"][\"content\"]\n",
    "    pred = parse_response(message)\n",
    "\n",
    "    golds.append(gold)\n",
    "    preds.append(pred)\n",
    "    messages.append(message)"
   ]
  },
  {
   "cell_type": "code",
   "execution_count": null,
   "metadata": {},
   "outputs": [],
   "source": [
    "golds[2][\"perpetrator\"]"
   ]
  },
  {
   "cell_type": "code",
   "execution_count": null,
   "metadata": {},
   "outputs": [],
   "source": [
    "preds[2]"
   ]
  },
  {
   "cell_type": "code",
   "execution_count": null,
   "metadata": {},
   "outputs": [],
   "source": [
    "df[\"doctext\"][2]"
   ]
  },
  {
   "cell_type": "code",
   "execution_count": null,
   "metadata": {},
   "outputs": [],
   "source": [
    "import evaluate\n",
    "\n",
    "squad_v2_metric = evaluate.load(\"squad_v2\")"
   ]
  },
  {
   "cell_type": "code",
   "execution_count": null,
   "metadata": {},
   "outputs": [],
   "source": [
    "print(squad_v2_metric.inputs_description)"
   ]
  },
  {
   "cell_type": "code",
   "execution_count": null,
   "metadata": {},
   "outputs": [],
   "source": [
    "def transform_to_squad(slots: List[str], data: List[Dict[str, List[str]]], is_gold: bool) -> Dict[str, List[Dict[str, str]]]:\n",
    "    transformed = {\n",
    "        slot: [] for slot in slots\n",
    "    }\n",
    "\n",
    "    for idx, datapoint in enumerate(data):\n",
    "        for slot in slots:\n",
    "            assert slot in datapoint\n",
    "\n",
    "            if is_gold:\n",
    "                transformed[slot].append({'answers': {\"answer_start\": [0], \"text\": datapoint[slot]}, \"id\": str(idx)})\n",
    "            else:\n",
    "                has_answer = datapoint[slot] is not None and len(datapoint[slot]) > 0\n",
    "                transformed[slot].append({'prediction_text': datapoint[slot][0] if has_answer else '', 'id': str(idx), 'no_answer_probability': 0.0 if has_answer else 1.0})\n",
    "\n",
    "    return transformed"
   ]
  },
  {
   "cell_type": "code",
   "execution_count": null,
   "metadata": {},
   "outputs": [],
   "source": [
    "gold_transformed = transform_to_squad(slots, golds, is_gold=True)\n",
    "pred_transformed = transform_to_squad(slots, preds, is_gold=False)"
   ]
  },
  {
   "cell_type": "code",
   "execution_count": null,
   "metadata": {},
   "outputs": [],
   "source": [
    "gold_transformed[\"incident\"]"
   ]
  },
  {
   "cell_type": "code",
   "execution_count": null,
   "metadata": {},
   "outputs": [],
   "source": [
    "pred_transformed[\"incident\"]"
   ]
  },
  {
   "cell_type": "code",
   "execution_count": null,
   "metadata": {},
   "outputs": [],
   "source": [
    "gold_transformed[\"perpetrator\"]"
   ]
  },
  {
   "cell_type": "code",
   "execution_count": null,
   "metadata": {},
   "outputs": [],
   "source": [
    "pred_transformed[\"perpetrator\"]"
   ]
  },
  {
   "cell_type": "code",
   "execution_count": null,
   "metadata": {},
   "outputs": [],
   "source": [
    "def report(slots, golds, preds):\n",
    "    squad_v2_metric = evaluate.load(\"squad_v2\")\n",
    "\n",
    "    gold_transformed = transform_to_squad(slots, golds, is_gold=True)\n",
    "    pred_transformed = transform_to_squad(slots, preds, is_gold=False)\n",
    "\n",
    "    for slot in slots:\n",
    "        assert len(gold_transformed[slot]) == len(pred_transformed[slot])\n",
    "        print(f\"Slot: {slot}\")\n",
    "        print(squad_v2_metric.compute(references=gold_transformed[slot], predictions=pred_transformed[slot]))"
   ]
  },
  {
   "cell_type": "code",
   "execution_count": null,
   "metadata": {},
   "outputs": [],
   "source": [
    "report(slots=slots, golds=golds, preds=preds)"
   ]
  }
 ],
 "metadata": {
  "kernelspec": {
   "display_name": "Python 3",
   "language": "python",
   "name": "python3"
  },
  "language_info": {
   "codemirror_mode": {
    "name": "ipython",
    "version": 3
   },
   "file_extension": ".py",
   "mimetype": "text/x-python",
   "name": "python",
   "nbconvert_exporter": "python",
   "pygments_lexer": "ipython3",
   "version": "3.11.6"
  }
 },
 "nbformat": 4,
 "nbformat_minor": 2
}
